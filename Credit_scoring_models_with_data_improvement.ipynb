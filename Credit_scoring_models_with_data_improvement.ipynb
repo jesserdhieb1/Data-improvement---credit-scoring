{
  "nbformat": 4,
  "nbformat_minor": 0,
  "metadata": {
    "colab": {
      "name": "Credit scoring models with data improvement.ipynb",
      "provenance": [],
      "collapsed_sections": []
    },
    "kernelspec": {
      "name": "python3",
      "display_name": "Python 3"
    },
    "language_info": {
      "name": "python"
    }
  },
  "cells": [
    {
      "cell_type": "markdown",
      "source": [
        "##Importing packages"
      ],
      "metadata": {
        "id": "iti9WeA9FMo8"
      }
    },
    {
      "cell_type": "code",
      "execution_count": null,
      "metadata": {
        "id": "W4jFZvDTFAdl"
      },
      "outputs": [],
      "source": [
        "import pandas as pd \n",
        "import numpy as np\n",
        "from sklearn.model_selection import train_test_split # split data into two sets (train and test)\n",
        "from sklearn.model_selection import GridSearchCV \n",
        "from sklearn.metrics import balanced_accuracy_score , roc_auc_score , make_scorer # ROC\n",
        "import matplotlib.pyplot as plt\n",
        "from sklearn.metrics import confusion_matrix # confusion matrix\n",
        "from sklearn.metrics import plot_confusion_matrix # the drawing of confusion matrix\n",
        "from sklearn.metrics import accuracy_score # accuracy score\n",
        "import seaborn as sns\n",
        "from sklearn.ensemble import RandomForestRegressor\n",
        "from sklearn.ensemble import RandomForestClassifier\n",
        "from sklearn.preprocessing import StandardScaler"
      ]
    },
    {
      "cell_type": "markdown",
      "source": [
        "## Importing Data"
      ],
      "metadata": {
        "id": "r6S8Y4y0FTjJ"
      }
    },
    {
      "cell_type": "code",
      "source": [
        "from google.colab import drive\n",
        "drive.mount('/content/drive')"
      ],
      "metadata": {
        "colab": {
          "base_uri": "https://localhost:8080/"
        },
        "id": "cSl6zayzFVXO",
        "outputId": "e52fd3f5-14f7-45e0-e324-aae2f30c1a96"
      },
      "execution_count": null,
      "outputs": [
        {
          "output_type": "stream",
          "name": "stdout",
          "text": [
            "Mounted at /content/drive\n"
          ]
        }
      ]
    },
    {
      "cell_type": "code",
      "source": [
        "df=pd.read_csv('/content/drive/MyDrive/Data_set/final_dataset_smes.csv') \n",
        "df.drop('Unnamed: 0',axis=1, inplace=True)\n",
        "df\n",
        "df[\"status\"].value_counts()"
      ],
      "metadata": {
        "colab": {
          "base_uri": "https://localhost:8080/"
        },
        "id": "-qduYr6-FVhR",
        "outputId": "ea167885-0af5-40f2-ff97-323ff091b442"
      },
      "execution_count": null,
      "outputs": [
        {
          "output_type": "execute_result",
          "data": {
            "text/plain": [
              "0    13413\n",
              "1     1632\n",
              "Name: status, dtype: int64"
            ]
          },
          "metadata": {},
          "execution_count": 3
        }
      ]
    },
    {
      "cell_type": "markdown",
      "source": [
        ""
      ],
      "metadata": {
        "id": "EqDOwaL2HSy2"
      }
    },
    {
      "cell_type": "markdown",
      "source": [
        "#correlation matrix\n",
        "####we will use the correlation matrix to determine the correlation between all variables"
      ],
      "metadata": {
        "id": "N_cfZFqdG5oZ"
      }
    },
    {
      "cell_type": "code",
      "source": [
        "corrMatrix = df.corr()\n",
        "sns.heatmap(corrMatrix, annot=False)\n",
        "plt.show()"
      ],
      "metadata": {
        "colab": {
          "base_uri": "https://localhost:8080/",
          "height": 290
        },
        "id": "nPlXeSPIFlmd",
        "outputId": "088b7b03-aa7c-4fa1-a77d-6efe1b3057be"
      },
      "execution_count": null,
      "outputs": [
        {
          "output_type": "display_data",
          "data": {
            "text/plain": [
              "<Figure size 432x288 with 2 Axes>"
            ],
            "image/png": "[encoded data removed]"
          },
          "metadata": {
            "needs_background": "light"
          }
        }
      ]
    },
    {
      "cell_type": "markdown",
      "source": [
        "#RandomForestClassifer\n",
        "###We will use RandomForestClassifer to eliminate the least important feature.\n"
      ],
      "metadata": {
        "id": "lGxBztoTHh5I"
      }
    },
    {
      "cell_type": "markdown",
      "source": [
        " Splitting data into two (Train and Test)"
      ],
      "metadata": {
        "id": "qBvErAV1HqOp"
      }
    },
    {
      "cell_type": "code",
      "source": [
        "var_columns = [c for c in df.columns if c !='status']\n",
        "X= df.loc[:, var_columns] # the variables that we're gonna use to build our model\n",
        "y= df.loc[:, 'status'] # the result we wanna acheive\n",
        "\n",
        "X_train, X_test, y_train, y_test = train_test_split(X, y, test_size=0.2) #\"test_size=0.2\"=>the proportion of the dataset to include in the test split X/y_valid (test 20% train 80%)\n",
        "X_train.shape, X_test.shape, y_train.shape, y_test.shape"
      ],
      "metadata": {
        "colab": {
          "base_uri": "https://localhost:8080/"
        },
        "id": "G2uif4M6HnVF",
        "outputId": "b3d2ba26-54fa-415b-9b80-d72feeee5723"
      },
      "execution_count": null,
      "outputs": [
        {
          "output_type": "execute_result",
          "data": {
            "text/plain": [
              "((12036, 24), (3009, 24), (12036,), (3009,))"
            ]
          },
          "metadata": {},
          "execution_count": 7
        }
      ]
    },
    {
      "cell_type": "markdown",
      "source": [
        "Training the model using Sklearn \"RandomForestClassifier\" and \"RandomForestRegressor\" then Visualizing the feature importance"
      ],
      "metadata": {
        "id": "mw4UTys4H6OJ"
      }
    },
    {
      "cell_type": "code",
      "source": [
        "rf = RandomForestRegressor(n_estimators=100)\n",
        "rf.fit(X_train, y_train)"
      ],
      "metadata": {
        "colab": {
          "base_uri": "https://localhost:8080/"
        },
        "id": "kPP2UV9BISGX",
        "outputId": "abd897a8-5b19-4bb3-ae5b-be11b11a8a7f"
      },
      "execution_count": null,
      "outputs": [
        {
          "output_type": "execute_result",
          "data": {
            "text/plain": [
              "RandomForestRegressor()"
            ]
          },
          "metadata": {},
          "execution_count": 24
        }
      ]
    },
    {
      "cell_type": "code",
      "source": [
        "print(\"feature importances : \\n\",rf.feature_importances_)\n",
        "importances = rf.feature_importances_\n",
        "sorted_indices = np.argsort(importances)[::-1]\n",
        "plt.title('Feature Importance using RandomForestRegressor')\n",
        "plt.bar(range(X_train.shape[1]), importances[sorted_indices], align='center')\n",
        "plt.xticks(range(X_train.shape[1]), X_train.columns[sorted_indices], rotation=90)\n",
        "plt.tight_layout()\n",
        "plt.show()"
      ],
      "metadata": {
        "colab": {
          "base_uri": "https://localhost:8080/",
          "height": 388
        },
        "id": "JRNN92gwLqCi",
        "outputId": "c91924d2-5f32-4f5a-8b1c-1df9b80b1045"
      },
      "execution_count": null,
      "outputs": [
        {
          "output_type": "stream",
          "name": "stdout",
          "text": [
            "feature importances : \n",
            " [0.04800558 0.03430198 0.23194862 0.0331243  0.03436835 0.04578459\n",
            " 0.03834128 0.04414529 0.05329506 0.03444362 0.03363781 0.03606927\n",
            " 0.06193018 0.02515526 0.02147252 0.00047317 0.00069353 0.00203832\n",
            " 0.00539226 0.02717139 0.0562847  0.03381058 0.05602399 0.04208837]\n"
          ]
        },
        {
          "output_type": "display_data",
          "data": {
            "text/plain": [
              "<Figure size 432x288 with 1 Axes>"
            ],
            "image/png": "[encoded data removed]"
          },
          "metadata": {
            "needs_background": "light"
          }
        }
      ]
    },
    {
      "cell_type": "code",
      "source": [
        "rfc=RandomForestClassifier()\n",
        "rfc.fit(X_train, y_train)"
      ],
      "metadata": {
        "colab": {
          "base_uri": "https://localhost:8080/"
        },
        "id": "ntC4GX7QN8jL",
        "outputId": "8f61f622-83a3-4906-cf15-9d05b0c80aba"
      },
      "execution_count": null,
      "outputs": [
        {
          "output_type": "execute_result",
          "data": {
            "text/plain": [
              "RandomForestClassifier()"
            ]
          },
          "metadata": {},
          "execution_count": 29
        }
      ]
    },
    {
      "cell_type": "code",
      "source": [
        "print(\"feature importances : \\n\",rfc.feature_importances_)\n",
        "importances = rfc.feature_importances_\n",
        "sorted_indices = np.argsort(importances)[::-1]\n",
        "plt.title('Feature Importance using RandomForestClassifier')\n",
        "plt.bar(range(X_train.shape[1]), importances[sorted_indices], align='center')\n",
        "plt.xticks(range(X_train.shape[1]), X_train.columns[sorted_indices], rotation=90)\n",
        "plt.tight_layout()\n",
        "plt.show()"
      ],
      "metadata": {
        "colab": {
          "base_uri": "https://localhost:8080/",
          "height": 388
        },
        "id": "2kJVKQA3Mo-Z",
        "outputId": "e108e061-f982-48ce-e562-9e1181840054"
      },
      "execution_count": null,
      "outputs": [
        {
          "output_type": "stream",
          "name": "stdout",
          "text": [
            "feature importances : \n",
            " [0.10426879 0.04236963 0.07203857 0.0372433  0.0364513  0.06147299\n",
            " 0.04671977 0.06218546 0.05872994 0.03815642 0.03900599 0.04033885\n",
            " 0.04834233 0.04830252 0.05348293 0.00201869 0.0077748  0.00179575\n",
            " 0.00742786 0.0289972  0.04676342 0.03429548 0.04494384 0.03687417]\n"
          ]
        },
        {
          "output_type": "display_data",
          "data": {
            "text/plain": [
              "<Figure size 432x288 with 1 Axes>"
            ],
            "image/png": "[encoded data removed]"
          },
          "metadata": {
            "needs_background": "light"
          }
        }
      ]
    },
    {
      "cell_type": "markdown",
      "source": [
        "##Removing unwanted features"
      ],
      "metadata": {
        "id": "c6XfuXLFWN5n"
      }
    },
    {
      "cell_type": "code",
      "source": [
        "unwanted=['V_16','V_17','V_18','V_19','status']\n",
        "var_columns = [c for c in df.columns if c not in unwanted]\n",
        "X= df.loc[:, var_columns] # the variables that we're gonna use to build our model\n",
        "y= df.loc[:, 'status'] # the result we wanna acheive\n",
        "\n",
        "X_train, X_test, y_train, y_test = train_test_split(X, y, test_size=0.2) #\"test_size=0.2\"=>the proportion of the dataset to include in the test split X/y_valid (test 20% train 80%)\n",
        "X_train.shape, X_test.shape, y_train.shape, y_test.shape"
      ],
      "metadata": {
        "colab": {
          "base_uri": "https://localhost:8080/"
        },
        "id": "ZzccHqZqWUnv",
        "outputId": "5c96e888-7a02-4ad9-d3ca-b4bc767c2af5"
      },
      "execution_count": null,
      "outputs": [
        {
          "output_type": "execute_result",
          "data": {
            "text/plain": [
              "((12036, 20), (3009, 20), (12036,), (3009,))"
            ]
          },
          "metadata": {},
          "execution_count": 36
        }
      ]
    },
    {
      "cell_type": "markdown",
      "source": [
        "##Appliying \"StandardScaler\" to the Train dataset"
      ],
      "metadata": {
        "id": "BINd5jp3XWND"
      }
    },
    {
      "cell_type": "code",
      "source": [
        "Scaler = StandardScaler().fit(X_train)\n",
        "print(\"the average value of each feature \\n\",Scaler.mean_)\n",
        "print(\"the scale of each feature \\n\",Scaler.scale_)\n",
        "X_train_scaled=Scaler.transform(X_train)\n",
        "\n",
        "Scaler = StandardScaler().fit(X_test)\n",
        "X_test_scaled=Scaler.transform(X_test)"
      ],
      "metadata": {
        "colab": {
          "base_uri": "https://localhost:8080/"
        },
        "id": "4IWfJwV2e2gI",
        "outputId": "52146bce-79aa-46e4-8a63-be6831cb1d8e"
      },
      "execution_count": null,
      "outputs": [
        {
          "output_type": "stream",
          "name": "stdout",
          "text": [
            "the average value of each feature \n",
            " [ 8.86108591e+00  1.23524593e+00  1.46672399e+00  1.54496344e+00\n",
            "  1.19224493e+00  7.81797275e+00  2.32686092e+01  2.84712529e-02\n",
            " -6.10609837e-02  1.36754819e+00  1.33044865e+00  1.96414922e-01\n",
            "  3.71168112e+01  6.24709206e-02  6.91467265e-02  1.04295115e+02\n",
            "  7.62472582e+01  9.60262546e+01  3.35421685e+03  4.57245231e+03]\n",
            "the scale of each feature \n",
            " [1.92822864e+01 3.30840833e+00 8.08722150e-01 1.20682885e+00\n",
            " 1.00701055e+00 2.36488473e+01 7.19698499e+01 1.48823812e-01\n",
            " 7.80098723e-01 1.06131501e+00 1.05762946e+00 4.88431729e-01\n",
            " 9.34646031e+01 1.96641398e-01 2.18588051e-01 3.46329430e+02\n",
            " 1.15524258e+02 1.33406990e+02 7.39586527e+03 1.94147001e+03]\n"
          ]
        }
      ]
    },
    {
      "cell_type": "markdown",
      "source": [
        "##Testing on different models\n",
        "now after optimizing the dataset we are going to test and see if we have some improvement or not  "
      ],
      "metadata": {
        "id": "BhbueXvXp7v4"
      }
    },
    {
      "cell_type": "code",
      "source": [
        "pip install lightgbm #installing lightGBM"
      ],
      "metadata": {
        "colab": {
          "base_uri": "https://localhost:8080/"
        },
        "id": "aOCoOQivqU_y",
        "outputId": "4c5666b2-29d4-4386-df9d-422736102b1b"
      },
      "execution_count": null,
      "outputs": [
        {
          "output_type": "stream",
          "name": "stdout",
          "text": [
            "Requirement already satisfied: lightgbm in /usr/local/lib/python3.7/dist-packages (2.2.3)\n",
            "Requirement already satisfied: scikit-learn in /usr/local/lib/python3.7/dist-packages (from lightgbm) (1.0.2)\n",
            "Requirement already satisfied: numpy in /usr/local/lib/python3.7/dist-packages (from lightgbm) (1.21.6)\n",
            "Requirement already satisfied: scipy in /usr/local/lib/python3.7/dist-packages (from lightgbm) (1.4.1)\n",
            "Requirement already satisfied: joblib>=0.11 in /usr/local/lib/python3.7/dist-packages (from scikit-learn->lightgbm) (1.1.0)\n",
            "Requirement already satisfied: threadpoolctl>=2.0.0 in /usr/local/lib/python3.7/dist-packages (from scikit-learn->lightgbm) (3.1.0)\n"
          ]
        }
      ]
    },
    {
      "cell_type": "code",
      "source": [
        "import lightgbm as lgb\n",
        "from sklearn.neural_network import MLPClassifier\n",
        "import xgboost "
      ],
      "metadata": {
        "id": "MZcjJRyxu5HI"
      },
      "execution_count": null,
      "outputs": []
    },
    {
      "cell_type": "markdown",
      "source": [
        "##LightGBM Model"
      ],
      "metadata": {
        "id": "YvO3ghMQvOVM"
      }
    },
    {
      "cell_type": "code",
      "source": [
        "model_LGBM = lgb.LGBMClassifier() \n",
        "eval_set = [(X_test_scaled, y_test)]\n",
        "model_LGBM.fit(X_train_scaled,\n",
        "               y_train,\n",
        "               early_stopping_rounds=10,\n",
        "               eval_set=eval_set,\n",
        "               verbose=True)"
      ],
      "metadata": {
        "colab": {
          "base_uri": "https://localhost:8080/"
        },
        "id": "fL90DS4RvNra",
        "outputId": "667d3968-4485-41c9-9927-3f8df17a0fc0"
      },
      "execution_count": null,
      "outputs": [
        {
          "output_type": "stream",
          "name": "stdout",
          "text": [
            "[1]\tvalid_0's binary_logloss: 0.325512\n",
            "Training until validation scores don't improve for 10 rounds.\n",
            "[2]\tvalid_0's binary_logloss: 0.309751\n",
            "[3]\tvalid_0's binary_logloss: 0.298017\n",
            "[4]\tvalid_0's binary_logloss: 0.288979\n",
            "[5]\tvalid_0's binary_logloss: 0.282003\n",
            "[6]\tvalid_0's binary_logloss: 0.276338\n",
            "[7]\tvalid_0's binary_logloss: 0.271373\n",
            "[8]\tvalid_0's binary_logloss: 0.267276\n",
            "[9]\tvalid_0's binary_logloss: 0.263004\n",
            "[10]\tvalid_0's binary_logloss: 0.260023\n",
            "[11]\tvalid_0's binary_logloss: 0.257773\n",
            "[12]\tvalid_0's binary_logloss: 0.255532\n",
            "[13]\tvalid_0's binary_logloss: 0.253545\n",
            "[14]\tvalid_0's binary_logloss: 0.252005\n",
            "[15]\tvalid_0's binary_logloss: 0.249812\n",
            "[16]\tvalid_0's binary_logloss: 0.248838\n",
            "[17]\tvalid_0's binary_logloss: 0.247611\n",
            "[18]\tvalid_0's binary_logloss: 0.24645\n",
            "[19]\tvalid_0's binary_logloss: 0.245847\n",
            "[20]\tvalid_0's binary_logloss: 0.245224\n",
            "[21]\tvalid_0's binary_logloss: 0.244708\n",
            "[22]\tvalid_0's binary_logloss: 0.243967\n",
            "[23]\tvalid_0's binary_logloss: 0.243669\n",
            "[24]\tvalid_0's binary_logloss: 0.24306\n",
            "[25]\tvalid_0's binary_logloss: 0.242559\n",
            "[26]\tvalid_0's binary_logloss: 0.242202\n",
            "[27]\tvalid_0's binary_logloss: 0.241986\n",
            "[28]\tvalid_0's binary_logloss: 0.241522\n",
            "[29]\tvalid_0's binary_logloss: 0.241483\n",
            "[30]\tvalid_0's binary_logloss: 0.241641\n",
            "[31]\tvalid_0's binary_logloss: 0.241868\n",
            "[32]\tvalid_0's binary_logloss: 0.241827\n",
            "[33]\tvalid_0's binary_logloss: 0.241996\n",
            "[34]\tvalid_0's binary_logloss: 0.241926\n",
            "[35]\tvalid_0's binary_logloss: 0.241607\n",
            "[36]\tvalid_0's binary_logloss: 0.241712\n",
            "[37]\tvalid_0's binary_logloss: 0.241706\n",
            "[38]\tvalid_0's binary_logloss: 0.241815\n",
            "[39]\tvalid_0's binary_logloss: 0.241691\n",
            "Early stopping, best iteration is:\n",
            "[29]\tvalid_0's binary_logloss: 0.241483\n"
          ]
        },
        {
          "output_type": "execute_result",
          "data": {
            "text/plain": [
              "LGBMClassifier()"
            ]
          },
          "metadata": {},
          "execution_count": 64
        }
      ]
    },
    {
      "cell_type": "code",
      "source": [
        "y_train_pred = model_LGBM.predict_proba(X_train_scaled)[:,1]\n",
        "y_test_pred = model_LGBM.predict_proba(X_test_scaled)[:,1]\n",
        "for i in range(0, X_test.shape[0]): \n",
        "    if y_test_pred[i]>=.5:       # setting threshold to .5 \n",
        "       y_test_pred[i]=1 \n",
        "    else: \n",
        "       y_test_pred[i]=0  \n",
        "\n",
        "print('the accuracy of LightGBM after data processing is',accuracy_score(y_test_pred, y_test))    "
      ],
      "metadata": {
        "colab": {
          "base_uri": "https://localhost:8080/"
        },
        "id": "hLE75aWgzh8h",
        "outputId": "73dbce82-581a-4118-a8b7-86c7ca78d385"
      },
      "execution_count": null,
      "outputs": [
        {
          "output_type": "stream",
          "name": "stdout",
          "text": [
            "the accuracy of LightGBM after data processing is 0.9096045197740112\n"
          ]
        }
      ]
    },
    {
      "cell_type": "markdown",
      "source": [
        "##XGBoost Model"
      ],
      "metadata": {
        "id": "XtJg988yvZV3"
      }
    },
    {
      "cell_type": "code",
      "source": [
        "model_xgboost = xgboost.XGBClassifier()\n",
        "eval_set = [(X_test_scaled, y_test)]\n",
        "model_xgboost.fit(X_train_scaled,\n",
        "                  y_train,\n",
        "                  early_stopping_rounds=10,\n",
        "                  eval_set=eval_set,\n",
        "                  verbose=True)\n"
      ],
      "metadata": {
        "colab": {
          "base_uri": "https://localhost:8080/"
        },
        "id": "HwPPuKKDvhz9",
        "outputId": "c40d2688-bad8-4155-9eb5-d279a96ba546"
      },
      "execution_count": null,
      "outputs": [
        {
          "output_type": "stream",
          "name": "stdout",
          "text": [
            "[0]\tvalidation_0-error:0.087737\n",
            "Will train until validation_0-error hasn't improved in 10 rounds.\n",
            "[1]\tvalidation_0-error:0.089398\n",
            "[2]\tvalidation_0-error:0.089398\n",
            "[3]\tvalidation_0-error:0.089398\n",
            "[4]\tvalidation_0-error:0.090728\n",
            "[5]\tvalidation_0-error:0.090728\n",
            "[6]\tvalidation_0-error:0.089731\n",
            "[7]\tvalidation_0-error:0.090395\n",
            "[8]\tvalidation_0-error:0.09106\n",
            "[9]\tvalidation_0-error:0.090728\n",
            "[10]\tvalidation_0-error:0.090395\n",
            "Stopping. Best iteration:\n",
            "[0]\tvalidation_0-error:0.087737\n",
            "\n"
          ]
        },
        {
          "output_type": "execute_result",
          "data": {
            "text/plain": [
              "XGBClassifier()"
            ]
          },
          "metadata": {},
          "execution_count": 63
        }
      ]
    },
    {
      "cell_type": "code",
      "source": [
        "y_train_pred = model_xgboost.predict_proba(X_train_scaled)[:,1]\n",
        "y_test_pred = model_xgboost.predict_proba(X_test_scaled)[:,1]\n",
        "for i in range(0, X_test.shape[0]): \n",
        "    if y_test_pred[i]>=.5:       # setting threshold to .5 \n",
        "       y_test_pred[i]=1 \n",
        "    else: \n",
        "       y_test_pred[i]=0  \n",
        "\n",
        "print('the accuracy of XGBoost after data processing is',accuracy_score(y_test_pred, y_test)) "
      ],
      "metadata": {
        "colab": {
          "base_uri": "https://localhost:8080/"
        },
        "id": "JfdYAglU0Q6O",
        "outputId": "0cfc5b87-f81a-465c-e64f-2967e0b0fd0c"
      },
      "execution_count": null,
      "outputs": [
        {
          "output_type": "stream",
          "name": "stdout",
          "text": [
            "the accuracy of XGBoost after data processing is 0.9122632103688934\n"
          ]
        }
      ]
    },
    {
      "cell_type": "markdown",
      "source": [
        "##MLPClassifier "
      ],
      "metadata": {
        "id": "y1-eh3TzvndN"
      }
    },
    {
      "cell_type": "code",
      "source": [
        "MLP = MLPClassifier(max_iter=500, activation='relu')\n",
        "MLP.fit(X_train_scaled, y_train)"
      ],
      "metadata": {
        "colab": {
          "base_uri": "https://localhost:8080/"
        },
        "id": "fetXki6Ovxo1",
        "outputId": "09bcce9b-7ed8-4bde-c14d-8cceeb47783a"
      },
      "execution_count": null,
      "outputs": [
        {
          "output_type": "stream",
          "name": "stderr",
          "text": [
            "/usr/local/lib/python3.7/dist-packages/sklearn/neural_network/_multilayer_perceptron.py:696: ConvergenceWarning: Stochastic Optimizer: Maximum iterations (500) reached and the optimization hasn't converged yet.\n",
            "  ConvergenceWarning,\n"
          ]
        },
        {
          "output_type": "execute_result",
          "data": {
            "text/plain": [
              "MLPClassifier(max_iter=500)"
            ]
          },
          "metadata": {},
          "execution_count": 53
        }
      ]
    },
    {
      "cell_type": "code",
      "source": [
        "pred = MLP.predict(X_test_scaled)\n",
        "y_train_pred = MLP.predict_proba(X_train_scaled)[:,1]\n",
        "y_test_pred = MLP.predict_proba(X_test_scaled)[:,1]\n",
        "for i in range(0, X_test.shape[0]): \n",
        "    if y_test_pred[i]>=.5:       # setting threshold to .5 \n",
        "       y_test_pred[i]=1 \n",
        "    else: \n",
        "       y_test_pred[i]=0  \n",
        "\n",
        "print('the accuracy of MLP after data processing is',accuracy_score(y_test_pred, y_test)) "
      ],
      "metadata": {
        "colab": {
          "base_uri": "https://localhost:8080/"
        },
        "id": "VAuRKLTp0hSE",
        "outputId": "cebdd53f-3a41-435e-8e07-a4d61394da57"
      },
      "execution_count": null,
      "outputs": [
        {
          "output_type": "stream",
          "name": "stdout",
          "text": [
            "the accuracy of MLP after data processing is 0.901296111665005\n"
          ]
        }
      ]
    }
  ]
}